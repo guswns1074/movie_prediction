{
 "cells": [
  {
   "cell_type": "code",
   "execution_count": 14,
   "metadata": {},
   "outputs": [],
   "source": [
    "import json\n",
    "import flask\n",
    "from flask import request\n",
    "import pandas as pd\n",
    "from sklearn.model_selection import train_test_split\n",
    "import pandas as pd\n",
    "import numpy as np\n",
    "import matplotlib.pyplot as plt\n",
    "from sklearn.datasets import make_blobs\n",
    "from sklearn.ensemble import GradientBoostingClassifier\n",
    "from sklearn.neural_network import MLPClassifier"
   ]
  },
  {
   "cell_type": "code",
   "execution_count": 15,
   "metadata": {},
   "outputs": [],
   "source": [
    "import gbrt"
   ]
  },
  {
   "cell_type": "code",
   "execution_count": 16,
   "metadata": {},
   "outputs": [
    {
     "name": "stdout",
     "output_type": "stream",
     "text": [
      "http://localhost:8086\n"
     ]
    }
   ],
   "source": [
    "# 포트번호\n",
    "TM_PORT_NO = 8086\n",
    "\n",
    "# HTTP 서버 실행하기\n",
    "app = flask.Flask(__name__)\n",
    "print(\"http://localhost:\" + str(TM_PORT_NO))"
   ]
  },
  {
   "cell_type": "code",
   "execution_count": 17,
   "metadata": {},
   "outputs": [],
   "source": [
    "# 루트에 접근할 경우\n",
    "@app.route('/', methods = ['GET'])\n",
    "def index():\n",
    "    with open('index2.html', 'rb') as f :\n",
    "        return f.read()"
   ]
  },
  {
   "cell_type": "code",
   "execution_count": 18,
   "metadata": {},
   "outputs": [],
   "source": [
    "# /api에 접근할 경우\n",
    "@app.route('/api', methods = ['GET'])\n",
    "def api():\n",
    "    data2 = pd.read_excel('./최종영화테스트.xlsx')\n",
    "    # URL 매개 변수 추출하기\n",
    "    movie_title = request.args.get('movie_title', '')\n",
    "    k = data2[data2['NAME'] == movie_title]\n",
    "\n",
    "    if movie_title == \"\" :\n",
    "        return '{\"positiveRate\" : \"제목을 입력해주세요\", \"audience\" : \"0\",\"screen\" : \"0\",\"sf\" : \"0\"}'\n",
    "   \n",
    "    # 텍스트 카테고리 판별하기\n",
    "    positiveRate = str(k.values[0][6])\n",
    "    audience = str(k.values[0][4])\n",
    "    screen = str(k.values[0][7])\n",
    "    sf = str(k.values[0][19])\n",
    "\n",
    "    \n",
    "    # 결과를 json으로 출력하기\n",
    "    return json.dumps({\"positiveRate\" : positiveRate,\n",
    "                        \"audience\" : audience,\n",
    "                        \"screen\" : screen,\n",
    "                        \"sf\" : sf\n",
    "                      })\n",
    "@app.route('/api2', methods = ['GET'])\n",
    "def api2():\n",
    "    data = pd.read_excel('./종합.xlsx')\n",
    "    data2 = pd.read_excel('./최종영화테스트.xlsx')\n",
    "   \n",
    "    X = data[[\"긍정비율\",\"개봉 이틀째 관객수\", \"2일차 스크린수\",\"SF\"]].values\n",
    "    y = data[\"흥행등급\"].values\n",
    "\n",
    "    X_train, X_test, y_train, y_test = train_test_split(X, y, random_state=0)\n",
    "    gbrt = GradientBoostingClassifier(random_state=0,max_depth=3,learning_rate=0.1)\n",
    "    gbrt.fit(X_train, y_train)\n",
    "    \n",
    "    predict = request.args.get('predict','')\n",
    "    k = data2[data2['NAME'] == predict]\n",
    "    if predict == \"\" :\n",
    "        return '{\"predict\" : \"영화를 입력해주세요\" }'\n",
    "\n",
    "    predict = gbrt.predict(k[[\"긍정비율\",\"개봉 이틀째 관객수\", \"2일차 스크린수\",\"SF\"]].values)\n",
    "    predict2 = \"\"\n",
    "    if int(predict) == 4:\n",
    "        predict2 = \"대 흥행작일 것 입니다~~\"\n",
    "    elif int(predict) == 3:\n",
    "        predict2 = \"평타 이상은 칠 것 같습니다 ~~\"\n",
    "    elif int(predict) == 2:\n",
    "        predict2 = \"손익분기점도 못 넘을것 같습니다 ~~\"\n",
    "    else:\n",
    "        predict2 = \"엄복동입니다 ~~\"\n",
    "    \n",
    "    predict3 = 5090*k.values[0][6] + 3.692*k.values[0][4] + 243*k.values[0][7] + -202300*k.values[0][19]+ -458200\n",
    "    \n",
    "    return json.dumps({\"predictgrade\" : int(predict),\n",
    "                        \"predictment\" : predict2,\n",
    "                        \"predictaud\" : str(round(predict3))\n",
    "                      })\n",
    "    \n",
    "    \n",
    "    \n",
    "    "
   ]
  },
  {
   "cell_type": "code",
   "execution_count": null,
   "metadata": {
    "scrolled": true
   },
   "outputs": [
    {
     "name": "stdout",
     "output_type": "stream",
     "text": [
      " * Serving Flask app \"__main__\" (lazy loading)\n",
      " * Environment: production\n",
      "   WARNING: Do not use the development server in a production environment.\n",
      "   Use a production WSGI server instead.\n",
      " * Debug mode: off\n"
     ]
    },
    {
     "name": "stderr",
     "output_type": "stream",
     "text": [
      " * Running on http://127.0.0.1:8086/ (Press CTRL+C to quit)\n",
      "127.0.0.1 - - [29/Aug/2019 15:36:49] \"\u001b[37mGET / HTTP/1.1\u001b[0m\" 200 -\n",
      "127.0.0.1 - - [29/Aug/2019 15:36:52] \"\u001b[37mGET /api?movie_title=%EB%B3%80%EC%8B%A0 HTTP/1.1\u001b[0m\" 200 -\n",
      "127.0.0.1 - - [29/Aug/2019 15:36:53] \"\u001b[37mGET /api2?predict=%EB%B3%80%EC%8B%A0 HTTP/1.1\u001b[0m\" 200 -\n",
      "127.0.0.1 - - [29/Aug/2019 15:37:59] \"\u001b[37mGET /? HTTP/1.1\u001b[0m\" 200 -\n",
      "127.0.0.1 - - [29/Aug/2019 15:38:05] \"\u001b[37mGET /? HTTP/1.1\u001b[0m\" 200 -\n",
      "127.0.0.1 - - [29/Aug/2019 15:38:11] \"\u001b[37mGET /api?movie_title=%EB%82%98%EB%9E%8F%EB%A7%90%EC%8B%B8%EB%AF%B8 HTTP/1.1\u001b[0m\" 200 -\n",
      "127.0.0.1 - - [29/Aug/2019 15:38:13] \"\u001b[37mGET /api2?predict=%EB%82%98%EB%9E%8F%EB%A7%90%EC%8B%B8%EB%AF%B8 HTTP/1.1\u001b[0m\" 200 -\n",
      "127.0.0.1 - - [29/Aug/2019 15:38:45] \"\u001b[37mGET /api?movie_title=%EC%9A%B0%EB%A6%AC%EC%A7%91 HTTP/1.1\u001b[0m\" 200 -\n",
      "127.0.0.1 - - [29/Aug/2019 15:38:45] \"\u001b[37mGET /api2?predict=%EC%9A%B0%EB%A6%AC%EC%A7%91 HTTP/1.1\u001b[0m\" 200 -\n",
      "127.0.0.1 - - [29/Aug/2019 15:38:53] \"\u001b[37mGET /api?movie_title=%EB%A7%88%EC%9D%B4%ED%8E%AB%EC%9D%98%20%EC%9D%B4%EC%A4%91%EC%83%9D%ED%99%9C%202 HTTP/1.1\u001b[0m\" 200 -\n",
      "127.0.0.1 - - [29/Aug/2019 15:38:54] \"\u001b[37mGET /api2?predict=%EB%A7%88%EC%9D%B4%ED%8E%AB%EC%9D%98%20%EC%9D%B4%EC%A4%91%EC%83%9D%ED%99%9C%202 HTTP/1.1\u001b[0m\" 200 -\n",
      "127.0.0.1 - - [29/Aug/2019 15:39:07] \"\u001b[37mGET /api?movie_title=%EB%A0%88%EB%93%9C%EC%8A%88%EC%A6%88 HTTP/1.1\u001b[0m\" 200 -\n",
      "127.0.0.1 - - [29/Aug/2019 15:39:08] \"\u001b[37mGET /api2?predict=%EB%A0%88%EB%93%9C%EC%8A%88%EC%A6%88 HTTP/1.1\u001b[0m\" 200 -\n",
      "127.0.0.1 - - [29/Aug/2019 15:39:09] \"\u001b[37mGET /api2?predict=%EB%A0%88%EB%93%9C%EC%8A%88%EC%A6%88 HTTP/1.1\u001b[0m\" 200 -\n",
      "127.0.0.1 - - [29/Aug/2019 15:39:10] \"\u001b[37mGET /api?movie_title=%EB%A0%88%EB%93%9C%EC%8A%88%EC%A6%88 HTTP/1.1\u001b[0m\" 200 -\n",
      "127.0.0.1 - - [29/Aug/2019 15:39:10] \"\u001b[37mGET /api2?predict=%EB%A0%88%EB%93%9C%EC%8A%88%EC%A6%88 HTTP/1.1\u001b[0m\" 200 -\n",
      "127.0.0.1 - - [29/Aug/2019 15:39:11] \"\u001b[37mGET /api2?predict=%EB%A0%88%EB%93%9C%EC%8A%88%EC%A6%88 HTTP/1.1\u001b[0m\" 200 -\n",
      "127.0.0.1 - - [29/Aug/2019 15:39:13] \"\u001b[37mGET /api2?predict=%EB%A0%88%EB%93%9C%EC%8A%88%EC%A6%88 HTTP/1.1\u001b[0m\" 200 -\n",
      "127.0.0.1 - - [29/Aug/2019 15:40:11] \"\u001b[37mGET /api?movie_title=%EB%B6%84%EB%85%B8%EC%9D%98%20%EC%A7%88%EC%A3%BC%3A%20%ED%99%89%EC%8A%A4%26%EC%87%BC HTTP/1.1\u001b[0m\" 200 -\n",
      "127.0.0.1 - - [29/Aug/2019 15:40:11] \"\u001b[37mGET /api2?predict=%EB%B6%84%EB%85%B8%EC%9D%98%20%EC%A7%88%EC%A3%BC%3A%20%ED%99%89%EC%8A%A4%26%EC%87%BC HTTP/1.1\u001b[0m\" 200 -\n",
      "127.0.0.1 - - [29/Aug/2019 15:40:17] \"\u001b[37mGET /api?movie_title=%EC%95%A0%ED%94%84%ED%84%B0 HTTP/1.1\u001b[0m\" 200 -\n",
      "127.0.0.1 - - [29/Aug/2019 15:40:17] \"\u001b[37mGET /api2?predict=%EC%95%A0%ED%94%84%ED%84%B0 HTTP/1.1\u001b[0m\" 200 -\n",
      "127.0.0.1 - - [29/Aug/2019 15:40:23] \"\u001b[37mGET /api?movie_title=%EC%BB%A4%EB%9F%B0%ED%8A%B8%20%EC%9B%8C HTTP/1.1\u001b[0m\" 200 -\n",
      "127.0.0.1 - - [29/Aug/2019 15:40:24] \"\u001b[37mGET /api2?predict=%EC%BB%A4%EB%9F%B0%ED%8A%B8%20%EC%9B%8C HTTP/1.1\u001b[0m\" 200 -\n",
      "127.0.0.1 - - [29/Aug/2019 15:40:26] \"\u001b[37mGET /api2?predict=%EC%BB%A4%EB%9F%B0%ED%8A%B8%20%EC%9B%8C HTTP/1.1\u001b[0m\" 200 -\n",
      "127.0.0.1 - - [29/Aug/2019 15:40:27] \"\u001b[37mGET /api?movie_title=%EC%BB%A4%EB%9F%B0%ED%8A%B8%20%EC%9B%8C HTTP/1.1\u001b[0m\" 200 -\n",
      "127.0.0.1 - - [29/Aug/2019 15:40:45] \"\u001b[37mGET /api2?predict=%EC%BB%A4%EB%9F%B0%ED%8A%B8%20%EC%9B%8C HTTP/1.1\u001b[0m\" 200 -\n",
      "127.0.0.1 - - [29/Aug/2019 15:40:59] \"\u001b[37mGET /api?movie_title=%EB%A7%88%EC%9D%B4%ED%8E%AB%EC%9D%98%20%EC%9D%B4%EC%A4%91%EC%83%9D%ED%99%9C%202 HTTP/1.1\u001b[0m\" 200 -\n",
      "127.0.0.1 - - [29/Aug/2019 15:41:00] \"\u001b[37mGET /api2?predict=%EB%A7%88%EC%9D%B4%ED%8E%AB%EC%9D%98%20%EC%9D%B4%EC%A4%91%EC%83%9D%ED%99%9C%202 HTTP/1.1\u001b[0m\" 200 -\n",
      "127.0.0.1 - - [29/Aug/2019 15:44:39] \"\u001b[37mGET /api?movie_title=%EB%B3%80%EC%8B%A0 HTTP/1.1\u001b[0m\" 200 -\n",
      "127.0.0.1 - - [29/Aug/2019 15:44:40] \"\u001b[37mGET /api2?predict=%EB%B3%80%EC%8B%A0 HTTP/1.1\u001b[0m\" 200 -\n",
      "127.0.0.1 - - [29/Aug/2019 15:44:57] \"\u001b[37mGET /api?movie_title=%EA%B4%91%EB%8C%80%EB%93%A4%3A%20%ED%92%8D%EB%AC%B8%EC%A1%B0%EC%9E%91%EB%8B%A8 HTTP/1.1\u001b[0m\" 200 -\n",
      "127.0.0.1 - - [29/Aug/2019 15:44:58] \"\u001b[37mGET /api2?predict=%EA%B4%91%EB%8C%80%EB%93%A4%3A%20%ED%92%8D%EB%AC%B8%EC%A1%B0%EC%9E%91%EB%8B%A8 HTTP/1.1\u001b[0m\" 200 -\n"
     ]
    }
   ],
   "source": [
    "if __name__ == '__main__' :\n",
    "    # 서버 실행하기\n",
    "    app.run(debug=False, port = TM_PORT_NO, threaded = False)"
   ]
  }
 ],
 "metadata": {
  "kernelspec": {
   "display_name": "Python 3",
   "language": "python",
   "name": "python3"
  },
  "language_info": {
   "codemirror_mode": {
    "name": "ipython",
    "version": 3
   },
   "file_extension": ".py",
   "mimetype": "text/x-python",
   "name": "python",
   "nbconvert_exporter": "python",
   "pygments_lexer": "ipython3",
   "version": "3.7.3"
  }
 },
 "nbformat": 4,
 "nbformat_minor": 2
}
