{
 "cells": [
  {
   "cell_type": "code",
   "execution_count": 1,
   "metadata": {},
   "outputs": [
    {
     "name": "stdout",
     "output_type": "stream",
     "text": [
      "Requirement already satisfied: selenium in c:\\programdata\\anaconda3\\lib\\site-packages (3.141.0)\n",
      "Requirement already satisfied: urllib3 in c:\\programdata\\anaconda3\\lib\\site-packages (from selenium) (1.24.1)\n",
      "Note: you may need to restart the kernel to use updated packages.\n"
     ]
    }
   ],
   "source": [
    "pip install selenium"
   ]
  },
  {
   "cell_type": "code",
   "execution_count": 3,
   "metadata": {},
   "outputs": [],
   "source": [
    "from selenium import webdriver\n",
    "\n",
    "browser=\"C:\\ProgramData\\Anaconda3\\envs\\chromedriver.exe\"\n",
    "\n",
    "browser\n",
    "\n",
    "driver=webdriver.Chrome(browser)\n",
    "\n",
    "driver.get('https://movie.naver.com/movie/bi/mi/pointWriteFormList.nhn?code=101966&type=after&onlyActualPointYn=N&order=newest&page=1')\n"
   ]
  },
  {
   "cell_type": "code",
   "execution_count": 7,
   "metadata": {},
   "outputs": [
    {
     "ename": "NoSuchElementException",
     "evalue": "Message: no such element: Unable to locate element: {\"method\":\"css selector\",\"selector\":\"#pagerTagAnchor502\"}\n  (Session info: chrome=75.0.3770.100)\n",
     "output_type": "error",
     "traceback": [
      "\u001b[1;31m---------------------------------------------------------------------------\u001b[0m",
      "\u001b[1;31mNoSuchElementException\u001b[0m                    Traceback (most recent call last)",
      "\u001b[1;32m<ipython-input-7-31987a0ed54e>\u001b[0m in \u001b[0;36m<module>\u001b[1;34m\u001b[0m\n\u001b[0;32m     11\u001b[0m     \u001b[1;32mfor\u001b[0m \u001b[0mj\u001b[0m \u001b[1;32min\u001b[0m \u001b[0mrange\u001b[0m\u001b[1;33m(\u001b[0m\u001b[1;36m1\u001b[0m\u001b[1;33m,\u001b[0m\u001b[1;36m11\u001b[0m\u001b[1;33m)\u001b[0m\u001b[1;33m:\u001b[0m\u001b[1;33m\u001b[0m\u001b[1;33m\u001b[0m\u001b[0m\n\u001b[0;32m     12\u001b[0m         \u001b[0mstar\u001b[0m\u001b[1;33m.\u001b[0m\u001b[0mappend\u001b[0m\u001b[1;33m(\u001b[0m\u001b[0mdriver\u001b[0m\u001b[1;33m.\u001b[0m\u001b[0mfind_element_by_css_selector\u001b[0m\u001b[1;33m(\u001b[0m\u001b[1;34m\"body > div > div > div.score_result > ul > li:nth-child(\"\u001b[0m\u001b[1;33m+\u001b[0m\u001b[0mstr\u001b[0m\u001b[1;33m(\u001b[0m\u001b[0mj\u001b[0m\u001b[1;33m)\u001b[0m\u001b[1;33m+\u001b[0m\u001b[1;34m\") > div.star_score > em\"\u001b[0m\u001b[1;33m)\u001b[0m\u001b[1;33m.\u001b[0m\u001b[0mtext\u001b[0m\u001b[1;33m)\u001b[0m\u001b[1;33m\u001b[0m\u001b[1;33m\u001b[0m\u001b[0m\n\u001b[1;32m---> 13\u001b[1;33m     \u001b[0mdriver\u001b[0m\u001b[1;33m.\u001b[0m\u001b[0mfind_element_by_css_selector\u001b[0m\u001b[1;33m(\u001b[0m\u001b[1;34m\"#pagerTagAnchor%i\"\u001b[0m\u001b[1;33m%\u001b[0m\u001b[1;33m(\u001b[0m\u001b[0mpage\u001b[0m\u001b[1;33m-\u001b[0m\u001b[0mi\u001b[0m\u001b[1;33m)\u001b[0m\u001b[1;33m)\u001b[0m\u001b[1;33m.\u001b[0m\u001b[0mclick\u001b[0m\u001b[1;33m(\u001b[0m\u001b[1;33m)\u001b[0m\u001b[1;33m\u001b[0m\u001b[1;33m\u001b[0m\u001b[0m\n\u001b[0m",
      "\u001b[1;32mC:\\ProgramData\\Anaconda3\\lib\\site-packages\\selenium\\webdriver\\remote\\webdriver.py\u001b[0m in \u001b[0;36mfind_element_by_css_selector\u001b[1;34m(self, css_selector)\u001b[0m\n\u001b[0;32m    596\u001b[0m             \u001b[0melement\u001b[0m \u001b[1;33m=\u001b[0m \u001b[0mdriver\u001b[0m\u001b[1;33m.\u001b[0m\u001b[0mfind_element_by_css_selector\u001b[0m\u001b[1;33m(\u001b[0m\u001b[1;34m'#foo'\u001b[0m\u001b[1;33m)\u001b[0m\u001b[1;33m\u001b[0m\u001b[1;33m\u001b[0m\u001b[0m\n\u001b[0;32m    597\u001b[0m         \"\"\"\n\u001b[1;32m--> 598\u001b[1;33m         \u001b[1;32mreturn\u001b[0m \u001b[0mself\u001b[0m\u001b[1;33m.\u001b[0m\u001b[0mfind_element\u001b[0m\u001b[1;33m(\u001b[0m\u001b[0mby\u001b[0m\u001b[1;33m=\u001b[0m\u001b[0mBy\u001b[0m\u001b[1;33m.\u001b[0m\u001b[0mCSS_SELECTOR\u001b[0m\u001b[1;33m,\u001b[0m \u001b[0mvalue\u001b[0m\u001b[1;33m=\u001b[0m\u001b[0mcss_selector\u001b[0m\u001b[1;33m)\u001b[0m\u001b[1;33m\u001b[0m\u001b[1;33m\u001b[0m\u001b[0m\n\u001b[0m\u001b[0;32m    599\u001b[0m \u001b[1;33m\u001b[0m\u001b[0m\n\u001b[0;32m    600\u001b[0m     \u001b[1;32mdef\u001b[0m \u001b[0mfind_elements_by_css_selector\u001b[0m\u001b[1;33m(\u001b[0m\u001b[0mself\u001b[0m\u001b[1;33m,\u001b[0m \u001b[0mcss_selector\u001b[0m\u001b[1;33m)\u001b[0m\u001b[1;33m:\u001b[0m\u001b[1;33m\u001b[0m\u001b[1;33m\u001b[0m\u001b[0m\n",
      "\u001b[1;32mC:\\ProgramData\\Anaconda3\\lib\\site-packages\\selenium\\webdriver\\remote\\webdriver.py\u001b[0m in \u001b[0;36mfind_element\u001b[1;34m(self, by, value)\u001b[0m\n\u001b[0;32m    976\u001b[0m         return self.execute(Command.FIND_ELEMENT, {\n\u001b[0;32m    977\u001b[0m             \u001b[1;34m'using'\u001b[0m\u001b[1;33m:\u001b[0m \u001b[0mby\u001b[0m\u001b[1;33m,\u001b[0m\u001b[1;33m\u001b[0m\u001b[1;33m\u001b[0m\u001b[0m\n\u001b[1;32m--> 978\u001b[1;33m             'value': value})['value']\n\u001b[0m\u001b[0;32m    979\u001b[0m \u001b[1;33m\u001b[0m\u001b[0m\n\u001b[0;32m    980\u001b[0m     \u001b[1;32mdef\u001b[0m \u001b[0mfind_elements\u001b[0m\u001b[1;33m(\u001b[0m\u001b[0mself\u001b[0m\u001b[1;33m,\u001b[0m \u001b[0mby\u001b[0m\u001b[1;33m=\u001b[0m\u001b[0mBy\u001b[0m\u001b[1;33m.\u001b[0m\u001b[0mID\u001b[0m\u001b[1;33m,\u001b[0m \u001b[0mvalue\u001b[0m\u001b[1;33m=\u001b[0m\u001b[1;32mNone\u001b[0m\u001b[1;33m)\u001b[0m\u001b[1;33m:\u001b[0m\u001b[1;33m\u001b[0m\u001b[1;33m\u001b[0m\u001b[0m\n",
      "\u001b[1;32mC:\\ProgramData\\Anaconda3\\lib\\site-packages\\selenium\\webdriver\\remote\\webdriver.py\u001b[0m in \u001b[0;36mexecute\u001b[1;34m(self, driver_command, params)\u001b[0m\n\u001b[0;32m    319\u001b[0m         \u001b[0mresponse\u001b[0m \u001b[1;33m=\u001b[0m \u001b[0mself\u001b[0m\u001b[1;33m.\u001b[0m\u001b[0mcommand_executor\u001b[0m\u001b[1;33m.\u001b[0m\u001b[0mexecute\u001b[0m\u001b[1;33m(\u001b[0m\u001b[0mdriver_command\u001b[0m\u001b[1;33m,\u001b[0m \u001b[0mparams\u001b[0m\u001b[1;33m)\u001b[0m\u001b[1;33m\u001b[0m\u001b[1;33m\u001b[0m\u001b[0m\n\u001b[0;32m    320\u001b[0m         \u001b[1;32mif\u001b[0m \u001b[0mresponse\u001b[0m\u001b[1;33m:\u001b[0m\u001b[1;33m\u001b[0m\u001b[1;33m\u001b[0m\u001b[0m\n\u001b[1;32m--> 321\u001b[1;33m             \u001b[0mself\u001b[0m\u001b[1;33m.\u001b[0m\u001b[0merror_handler\u001b[0m\u001b[1;33m.\u001b[0m\u001b[0mcheck_response\u001b[0m\u001b[1;33m(\u001b[0m\u001b[0mresponse\u001b[0m\u001b[1;33m)\u001b[0m\u001b[1;33m\u001b[0m\u001b[1;33m\u001b[0m\u001b[0m\n\u001b[0m\u001b[0;32m    322\u001b[0m             response['value'] = self._unwrap_value(\n\u001b[0;32m    323\u001b[0m                 response.get('value', None))\n",
      "\u001b[1;32mC:\\ProgramData\\Anaconda3\\lib\\site-packages\\selenium\\webdriver\\remote\\errorhandler.py\u001b[0m in \u001b[0;36mcheck_response\u001b[1;34m(self, response)\u001b[0m\n\u001b[0;32m    240\u001b[0m                 \u001b[0malert_text\u001b[0m \u001b[1;33m=\u001b[0m \u001b[0mvalue\u001b[0m\u001b[1;33m[\u001b[0m\u001b[1;34m'alert'\u001b[0m\u001b[1;33m]\u001b[0m\u001b[1;33m.\u001b[0m\u001b[0mget\u001b[0m\u001b[1;33m(\u001b[0m\u001b[1;34m'text'\u001b[0m\u001b[1;33m)\u001b[0m\u001b[1;33m\u001b[0m\u001b[1;33m\u001b[0m\u001b[0m\n\u001b[0;32m    241\u001b[0m             \u001b[1;32mraise\u001b[0m \u001b[0mexception_class\u001b[0m\u001b[1;33m(\u001b[0m\u001b[0mmessage\u001b[0m\u001b[1;33m,\u001b[0m \u001b[0mscreen\u001b[0m\u001b[1;33m,\u001b[0m \u001b[0mstacktrace\u001b[0m\u001b[1;33m,\u001b[0m \u001b[0malert_text\u001b[0m\u001b[1;33m)\u001b[0m\u001b[1;33m\u001b[0m\u001b[1;33m\u001b[0m\u001b[0m\n\u001b[1;32m--> 242\u001b[1;33m         \u001b[1;32mraise\u001b[0m \u001b[0mexception_class\u001b[0m\u001b[1;33m(\u001b[0m\u001b[0mmessage\u001b[0m\u001b[1;33m,\u001b[0m \u001b[0mscreen\u001b[0m\u001b[1;33m,\u001b[0m \u001b[0mstacktrace\u001b[0m\u001b[1;33m)\u001b[0m\u001b[1;33m\u001b[0m\u001b[1;33m\u001b[0m\u001b[0m\n\u001b[0m\u001b[0;32m    243\u001b[0m \u001b[1;33m\u001b[0m\u001b[0m\n\u001b[0;32m    244\u001b[0m     \u001b[1;32mdef\u001b[0m \u001b[0m_value_or_default\u001b[0m\u001b[1;33m(\u001b[0m\u001b[0mself\u001b[0m\u001b[1;33m,\u001b[0m \u001b[0mobj\u001b[0m\u001b[1;33m,\u001b[0m \u001b[0mkey\u001b[0m\u001b[1;33m,\u001b[0m \u001b[0mdefault\u001b[0m\u001b[1;33m)\u001b[0m\u001b[1;33m:\u001b[0m\u001b[1;33m\u001b[0m\u001b[1;33m\u001b[0m\u001b[0m\n",
      "\u001b[1;31mNoSuchElementException\u001b[0m: Message: no such element: Unable to locate element: {\"method\":\"css selector\",\"selector\":\"#pagerTagAnchor502\"}\n  (Session info: chrome=75.0.3770.100)\n"
     ]
    }
   ],
   "source": [
    "browser=\"C:\\ProgramData\\Anaconda3\\envs\\chromedriver.exe\"\n",
    "driver=webdriver.Chrome(browser)\n",
    "star = []\n",
    "\n",
    "\n",
    "driver.get('https://movie.naver.com/movie/bi/mi/pointWriteFormList.nhn?code=101966&type=after&onlyActualPointYn=N&order=newest&page=495')\n",
    "total = driver.find_element_by_css_selector(\"body > div > div > div.score_total > strong > em\").text\n",
    "page = int(int(total.replace(',',''))/10)+1\n",
    "\n",
    "for i in range(1,page-1):\n",
    "    for j in range(1,11):\n",
    "        star.append(driver.find_element_by_css_selector(\"body > div > div > div.score_result > ul > li:nth-child(\"+str(j)+\") > div.star_score > em\").text)\n",
    "    driver.find_element_by_css_selector(\"#pagerTagAnchor%i\"%(page-i)).click()"
   ]
  },
  {
   "cell_type": "markdown",
   "metadata": {},
   "source": [
    "### 개봉일로부터 2일동안 댓글의 평점"
   ]
  },
  {
   "cell_type": "code",
   "execution_count": 12,
   "metadata": {},
   "outputs": [],
   "source": [
    "import datetime \n",
    "\n",
    "def extract_star(url):\n",
    "    browser=\"C:\\ProgramData\\Anaconda3\\envs\\chromedriver.exe\"\n",
    "    driver=webdriver.Chrome(browser)\n",
    "    date = []\n",
    "    star = []\n",
    "    stop = 0\n",
    "    \n",
    "    driver.get(url)\n",
    "    total = driver.find_element_by_css_selector(\"body > div > div > div.score_total > strong > em\").text\n",
    "    page = int(int(total.replace(',',''))/10)+1\n",
    "    \n",
    "\n",
    "    for i in range(2,page):\n",
    "        for j in range(1,11):\n",
    "            law_date = driver.find_element_by_css_selector(\"body > div > div > div.score_result > ul > li:nth-child(\"+str(j)+\") > div.score_reple > dl > dt > em:nth-child(2)\").text\n",
    "            date.append(datetime.datetime.strptime(law_date,\"%Y.%m.%d %H:%M\"))\n",
    "            if date[0] <= date[((i-2)*10)+j-1] < (date[0]+ datetime.timedelta(days=2)):\n",
    "                star.append(driver.find_element_by_css_selector(\"body > div > div > div.score_result > ul > li:nth-child(\"+str(j)+\") > div.star_score > em\").text)\n",
    "            else:\n",
    "                stop = 1\n",
    "            driver.find_element_by_css_selector(\"#pagerTagAnchor%i\"%(page-i)).click()\n",
    "        if(stop == 1):\n",
    "            break   \n",
    "\n",
    "    cnt10 = 0\n",
    "    cnt9 = 0\n",
    "    cnt8 = 0\n",
    "    cnt7 = 0\n",
    "    cnt6 = 0\n",
    "    cnt5 = 0\n",
    "    cnt4 = 0\n",
    "    cnt3 = 0\n",
    "    cnt2 = 0\n",
    "    cnt1 = 0\n",
    "    \n",
    "\n",
    "    for i in range(0,len(star)):\n",
    "        if star[i]=='10':\n",
    "            cnt10 += 1\n",
    "        elif star[i]=='9':\n",
    "            cnt9 +=1\n",
    "        elif star[i]=='8':\n",
    "            cnt8 +=1\n",
    "        elif star[i]=='7':\n",
    "            cnt7 +=1\n",
    "        elif star[i]=='6':\n",
    "            cnt6 +=1\n",
    "        elif star[i]=='5':\n",
    "            cnt5 +=1\n",
    "        elif star[i]=='4':\n",
    "            cnt4 +=1\n",
    "        elif star[i]=='3':\n",
    "            cnt3 +=1\n",
    "        elif star[i]=='2':\n",
    "            cnt2 +=1\n",
    "        elif star[i]=='1':\n",
    "            cnt1 +=1\n",
    "        \n",
    "    positive = cnt10 + cnt9\n",
    "    neutral = cnt6 + cnt7 + cnt8\n",
    "    negative = cnt1 + cnt2 + cnt3 + cnt4 + cnt5\n",
    "\n",
    "    return positive, neutral, negative\n",
    "\n",
    "        "
   ]
  },
  {
   "cell_type": "markdown",
   "metadata": {},
   "source": [
    "### 해당 댓글 평점 count"
   ]
  },
  {
   "cell_type": "code",
   "execution_count": 9,
   "metadata": {},
   "outputs": [
    {
     "name": "stdout",
     "output_type": "stream",
     "text": [
      "964 128 39\n"
     ]
    }
   ],
   "source": [
    "for i in range(1,11):\n",
    "   globals()['cnt{}'.format(i)] = 0\n",
    "\n",
    "for i in range(0,len(star)):\n",
    "    if star[i]=='10':\n",
    "        cnt10 += 1\n",
    "    elif star[i]=='9':\n",
    "        cnt9 +=1\n",
    "    elif star[i]=='8':\n",
    "        cnt8 +=1\n",
    "    elif star[i]=='7':\n",
    "        cnt7 +=1\n",
    "    elif star[i]=='6':\n",
    "        cnt6 +=1\n",
    "    elif star[i]=='5':\n",
    "        cnt5 +=1\n",
    "    elif star[i]=='4':\n",
    "        cnt4 +=1\n",
    "    elif star[i]=='3':\n",
    "        cnt3 +=1\n",
    "    elif star[i]=='2':\n",
    "        cnt2 +=1\n",
    "    elif star[i]=='1':\n",
    "        cnt1 +=1\n",
    "        \n",
    "positive = cnt10 + cnt9\n",
    "neutral = cnt6 + cnt7 + cnt8\n",
    "negative = cnt1 + cnt2 + cnt3 + cnt4 + cnt5\n",
    "\n",
    "print(positive, neutral, negative)"
   ]
  },
  {
   "cell_type": "code",
   "execution_count": 2,
   "metadata": {},
   "outputs": [],
   "source": [
    "from openpyxl import load_workbook\n",
    "\n",
    "def insert_star(a):\n",
    "    wb = load_workbook('평점.xlsx')\n",
    "    sheet = wb.active\n",
    "    sheet.cell(row=a, column=2).value = positive\n",
    "    sheet.cell(row=a, column=3).value = neutral\n",
    "    sheet.cell(row=a, column=4).value = negative\n",
    "    wb.save('평점.xlsx')"
   ]
  },
  {
   "cell_type": "markdown",
   "metadata": {},
   "source": [
    "### 리뷰 가져오기"
   ]
  },
  {
   "cell_type": "code",
   "execution_count": null,
   "metadata": {},
   "outputs": [],
   "source": [
    "from selenium import webdriver\n",
    "import time\n",
    "\n",
    "browser=\"C:\\ProgramData\\Anaconda3\\envs\\ddat\\chromedriver.exe\"\n",
    "driver=webdriver.Chrome(browser)\n",
    "review = []\n",
    "\n",
    "driver.get('https://movie.naver.com/movie/bi/mi/pointWriteFormList.nhn?code=101966&type=after&onlyActualPointYn=N&order=newest&page=1')\n",
    "total = driver.find_element_by_css_selector(\"body > div > div > div.score_total > strong > em\").text\n",
    "page = int(int(total.replace(',',''))/10)+1\n",
    "body > div > div > div.score_total > strong > em\n",
    "for i in range(2,5):\n",
    "    for j in range(1,11):\n",
    "        \n",
    "        review.append(driver.find_element_by_css_selector(\"body > div > div > div.score_result > ul > li:nth-child(\"+str(j)+\") > div.score_reple > p\").text)\n",
    "    driver.find_element_by_css_selector(\"#pagerTagAnchor%i\"%i).click()\n",
    "    time.sleep(1)\n",
    "review\n",
    "\n",
    "with open(\"review.txt\", \"w\", encoding=\"utf-8\") as f:\n",
    "    for i in review:\n",
    "        f.write(i)\n",
    "        f.write(\"\\n\")\n",
    "    f.close()"
   ]
  },
  {
   "cell_type": "code",
   "execution_count": 3,
   "metadata": {},
   "outputs": [
    {
     "ename": "NameError",
     "evalue": "name 'extract_star' is not defined",
     "output_type": "error",
     "traceback": [
      "\u001b[1;31m---------------------------------------------------------------------------\u001b[0m",
      "\u001b[1;31mNameError\u001b[0m                                 Traceback (most recent call last)",
      "\u001b[1;32m<ipython-input-3-ccbc38752b5c>\u001b[0m in \u001b[0;36m<module>\u001b[1;34m\u001b[0m\n\u001b[0;32m      3\u001b[0m \u001b[1;32mfrom\u001b[0m \u001b[0mselenium\u001b[0m \u001b[1;32mimport\u001b[0m \u001b[0mwebdriver\u001b[0m\u001b[1;33m\u001b[0m\u001b[1;33m\u001b[0m\u001b[0m\n\u001b[0;32m      4\u001b[0m \u001b[1;33m\u001b[0m\u001b[0m\n\u001b[1;32m----> 5\u001b[1;33m \u001b[0mpositive\u001b[0m\u001b[1;33m,\u001b[0m \u001b[0mneutral\u001b[0m\u001b[1;33m,\u001b[0m \u001b[0mnegative\u001b[0m \u001b[1;33m=\u001b[0m \u001b[0mextract_star\u001b[0m\u001b[1;33m(\u001b[0m\u001b[1;34m'https://movie.naver.com/movie/bi/mi/pointWriteFormList.nhn?code=151153&type=after&onlyActualPointYn=N&order=newest&page=1941'\u001b[0m\u001b[1;33m)\u001b[0m\u001b[1;33m\u001b[0m\u001b[1;33m\u001b[0m\u001b[0m\n\u001b[0m\u001b[0;32m      6\u001b[0m \u001b[1;33m\u001b[0m\u001b[0m\n\u001b[0;32m      7\u001b[0m \u001b[0minsert_star\u001b[0m\u001b[1;33m(\u001b[0m\u001b[1;36m6\u001b[0m\u001b[1;33m)\u001b[0m\u001b[1;33m\u001b[0m\u001b[1;33m\u001b[0m\u001b[0m\n",
      "\u001b[1;31mNameError\u001b[0m: name 'extract_star' is not defined"
     ]
    }
   ],
   "source": [
    "import datetime\n",
    "from openpyxl import load_workbook\n",
    "from selenium import webdriver\n",
    "\n",
    "positive, neutral, negative = extract_star('https://movie.naver.com/movie/bi/mi/pointWriteFormList.nhn?code=151153&type=after&onlyActualPointYn=N&order=newest&page=1941')\n",
    "\n",
    "insert_star(6)"
   ]
  },
  {
   "cell_type": "code",
   "execution_count": 2,
   "metadata": {},
   "outputs": [],
   "source": [
    "from selenium import webdriver\n",
    "import time\n",
    "\n",
    "def get_url(keyword):\n",
    "    browser=\"C:\\ProgramData\\Anaconda3\\envs\\chromedriver.exe\"\n",
    "    driver=webdriver.Chrome(browser)\n",
    "    driver.get('https://search.naver.com/search.naver?&query=영화 '+keyword)\n",
    "    url = driver.find_element_by_css_selector('#_au_movie_info > div.info_main > h3 > a').get_attribute('href')\n",
    "    driver.get(url)\n",
    "    url2 =driver.find_element_by_css_selector('#movieEndTabMenu > li:nth-child(5) > a').get_attribute('href')\n",
    "    driver.get(url2)\n",
    "    driver.switch_to_frame(\"pointAfterListIframe\")\n",
    "\n",
    "    total = driver.find_element_by_css_selector(\"body > div > div > div.score_total > strong > em\").text\n",
    "    page = int(int(total.replace(',',''))/10)\n",
    "\n",
    "    url3 =driver.find_element_by_css_selector('#orderCheckbox > ul.sorting_list > li:nth-child(2) > a').get_attribute('href')\n",
    "    url3 = url3.strip('#')\n",
    "    url4 = url3+\"&order=newest&page=\"+ str(page)\n",
    "    driver.close()\n",
    "    \n",
    "    return url4"
   ]
  },
  {
   "cell_type": "code",
   "execution_count": 31,
   "metadata": {},
   "outputs": [
    {
     "data": {
      "text/plain": [
       "0"
      ]
     },
     "execution_count": 31,
     "metadata": {},
     "output_type": "execute_result"
    }
   ],
   "source": [
    "for i in range(1,11):\n",
    "   globals()['cnt{}'.format(i)] = 0\n",
    "cnt3"
   ]
  },
  {
   "cell_type": "code",
   "execution_count": 76,
   "metadata": {
    "scrolled": true
   },
   "outputs": [
    {
     "name": "stderr",
     "output_type": "stream",
     "text": [
      "C:\\ProgramData\\Anaconda3\\lib\\site-packages\\ipykernel_launcher.py:12: DeprecationWarning: use driver.switch_to.frame instead\n",
      "  if sys.path[0] == '':\n"
     ]
    }
   ],
   "source": [
    "browser=\"C:\\ProgramData\\Anaconda3\\envs\\chromedriver.exe\"\n",
    "driver=webdriver.Chrome(browser)\n",
    "\n",
    "driver.get(get_url('극한직업'))\n"
   ]
  },
  {
   "cell_type": "markdown",
   "metadata": {},
   "source": [
    "###텍스트 리스트로 가져오기"
   ]
  },
  {
   "cell_type": "code",
   "execution_count": 84,
   "metadata": {},
   "outputs": [
    {
     "data": {
      "text/plain": [
       "'아쿠아맨'"
      ]
     },
     "execution_count": 84,
     "metadata": {},
     "output_type": "execute_result"
    }
   ],
   "source": [
    "movie_name = open('./영화제목.txt',encoding = 'utf8')\n",
    "movie_title = [num for num in movie_name.read().split('\\n')]\n",
    "movie_title[0]"
   ]
  },
  {
   "cell_type": "markdown",
   "metadata": {},
   "source": [
    "##최종작업"
   ]
  },
  {
   "cell_type": "code",
   "execution_count": 6,
   "metadata": {},
   "outputs": [
    {
     "name": "stderr",
     "output_type": "stream",
     "text": [
      "C:\\ProgramData\\Anaconda3\\lib\\site-packages\\ipykernel_launcher.py:12: DeprecationWarning: use driver.switch_to.frame instead\n",
      "  if sys.path[0] == '':\n"
     ]
    },
    {
     "ename": "UnboundLocalError",
     "evalue": "local variable 'cnt10' referenced before assignment",
     "output_type": "error",
     "traceback": [
      "\u001b[1;31m---------------------------------------------------------------------------\u001b[0m",
      "\u001b[1;31mUnboundLocalError\u001b[0m                         Traceback (most recent call last)",
      "\u001b[1;32m<ipython-input-6-ca12ebd3033c>\u001b[0m in \u001b[0;36m<module>\u001b[1;34m\u001b[0m\n\u001b[0;32m     10\u001b[0m \u001b[1;32mfor\u001b[0m \u001b[0mi\u001b[0m \u001b[1;32min\u001b[0m \u001b[0mrange\u001b[0m\u001b[1;33m(\u001b[0m\u001b[1;36m69\u001b[0m\u001b[1;33m,\u001b[0m\u001b[0mlen\u001b[0m\u001b[1;33m(\u001b[0m\u001b[0mmovie_title\u001b[0m\u001b[1;33m)\u001b[0m\u001b[1;33m)\u001b[0m\u001b[1;33m:\u001b[0m\u001b[1;33m\u001b[0m\u001b[1;33m\u001b[0m\u001b[0m\n\u001b[0;32m     11\u001b[0m     \u001b[0murl\u001b[0m \u001b[1;33m=\u001b[0m \u001b[0mget_url\u001b[0m\u001b[1;33m(\u001b[0m\u001b[0mmovie_title\u001b[0m\u001b[1;33m[\u001b[0m\u001b[0mi\u001b[0m\u001b[1;33m]\u001b[0m\u001b[1;33m)\u001b[0m\u001b[1;33m\u001b[0m\u001b[1;33m\u001b[0m\u001b[0m\n\u001b[1;32m---> 12\u001b[1;33m     \u001b[0mpositive\u001b[0m\u001b[1;33m,\u001b[0m \u001b[0mneutral\u001b[0m\u001b[1;33m,\u001b[0m \u001b[0mnegative\u001b[0m \u001b[1;33m=\u001b[0m \u001b[0mextract_star\u001b[0m\u001b[1;33m(\u001b[0m\u001b[0murl\u001b[0m\u001b[1;33m)\u001b[0m\u001b[1;33m\u001b[0m\u001b[1;33m\u001b[0m\u001b[0m\n\u001b[0m\u001b[0;32m     13\u001b[0m     \u001b[0minsert_star\u001b[0m\u001b[1;33m(\u001b[0m\u001b[0mi\u001b[0m\u001b[1;33m+\u001b[0m\u001b[1;36m6\u001b[0m\u001b[1;33m)\u001b[0m\u001b[1;33m\u001b[0m\u001b[1;33m\u001b[0m\u001b[0m\n\u001b[0;32m     14\u001b[0m \u001b[1;33m\u001b[0m\u001b[0m\n",
      "\u001b[1;32m<ipython-input-5-763db5e8567b>\u001b[0m in \u001b[0;36mextract_star\u001b[1;34m(url)\u001b[0m\n\u001b[0;32m     30\u001b[0m     \u001b[1;32mfor\u001b[0m \u001b[0mi\u001b[0m \u001b[1;32min\u001b[0m \u001b[0mrange\u001b[0m\u001b[1;33m(\u001b[0m\u001b[1;36m0\u001b[0m\u001b[1;33m,\u001b[0m\u001b[0mlen\u001b[0m\u001b[1;33m(\u001b[0m\u001b[0mstar\u001b[0m\u001b[1;33m)\u001b[0m\u001b[1;33m)\u001b[0m\u001b[1;33m:\u001b[0m\u001b[1;33m\u001b[0m\u001b[1;33m\u001b[0m\u001b[0m\n\u001b[0;32m     31\u001b[0m         \u001b[1;32mif\u001b[0m \u001b[0mstar\u001b[0m\u001b[1;33m[\u001b[0m\u001b[0mi\u001b[0m\u001b[1;33m]\u001b[0m\u001b[1;33m==\u001b[0m\u001b[1;34m'10'\u001b[0m\u001b[1;33m:\u001b[0m\u001b[1;33m\u001b[0m\u001b[1;33m\u001b[0m\u001b[0m\n\u001b[1;32m---> 32\u001b[1;33m             \u001b[0mcnt10\u001b[0m \u001b[1;33m+=\u001b[0m \u001b[1;36m1\u001b[0m\u001b[1;33m\u001b[0m\u001b[1;33m\u001b[0m\u001b[0m\n\u001b[0m\u001b[0;32m     33\u001b[0m         \u001b[1;32melif\u001b[0m \u001b[0mstar\u001b[0m\u001b[1;33m[\u001b[0m\u001b[0mi\u001b[0m\u001b[1;33m]\u001b[0m\u001b[1;33m==\u001b[0m\u001b[1;34m'9'\u001b[0m\u001b[1;33m:\u001b[0m\u001b[1;33m\u001b[0m\u001b[1;33m\u001b[0m\u001b[0m\n\u001b[0;32m     34\u001b[0m             \u001b[0mcnt9\u001b[0m \u001b[1;33m+=\u001b[0m\u001b[1;36m1\u001b[0m\u001b[1;33m\u001b[0m\u001b[1;33m\u001b[0m\u001b[0m\n",
      "\u001b[1;31mUnboundLocalError\u001b[0m: local variable 'cnt10' referenced before assignment"
     ]
    }
   ],
   "source": [
    "from selenium import webdriver\n",
    "import time\n",
    "from openpyxl import load_workbook\n",
    "\n",
    "movie_name = open('./영화제목.txt',encoding = 'utf8')\n",
    "movie_title = [num for num in movie_name.read().split('\\n')]\n",
    "movie_title\n",
    "\n",
    "\n",
    "for i in range(69,len(movie_title)):\n",
    "    url = get_url(movie_title[i])\n",
    "    positive, neutral, negative = extract_star(url)\n",
    "    insert_star(i+6)\n",
    "   "
   ]
  },
  {
   "cell_type": "code",
   "execution_count": null,
   "metadata": {},
   "outputs": [],
   "source": []
  }
 ],
 "metadata": {
  "kernelspec": {
   "display_name": "Python 3",
   "language": "python",
   "name": "python3"
  },
  "language_info": {
   "codemirror_mode": {
    "name": "ipython",
    "version": 3
   },
   "file_extension": ".py",
   "mimetype": "text/x-python",
   "name": "python",
   "nbconvert_exporter": "python",
   "pygments_lexer": "ipython3",
   "version": "3.7.3"
  }
 },
 "nbformat": 4,
 "nbformat_minor": 2
}
