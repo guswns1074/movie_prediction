{
 "cells": [
  {
   "cell_type": "code",
   "execution_count": 1,
   "metadata": {},
   "outputs": [],
   "source": [
    "import json\n",
    "import flask\n",
    "from flask import request\n",
    "import pandas as pd\n",
    "from sklearn.model_selection import train_test_split\n",
    "import pandas as pd\n",
    "import numpy as np\n",
    "import matplotlib.pyplot as plt\n",
    "from sklearn.datasets import make_blobs\n",
    "from sklearn.ensemble import GradientBoostingClassifier\n"
   ]
  },
  {
   "cell_type": "code",
   "execution_count": 2,
   "metadata": {},
   "outputs": [
    {
     "name": "stdout",
     "output_type": "stream",
     "text": [
      "http://localhost:8085\n"
     ]
    }
   ],
   "source": [
    "# 포트번호\n",
    "TM_PORT_NO = 8085\n",
    "\n",
    "# HTTP 서버 실행하기\n",
    "app = flask.Flask(__name__)\n",
    "print(\"http://localhost:\" + str(TM_PORT_NO))"
   ]
  },
  {
   "cell_type": "code",
   "execution_count": 3,
   "metadata": {},
   "outputs": [],
   "source": [
    "# 루트에 접근할 경우\n",
    "@app.route('/', methods = ['GET'])\n",
    "def index():\n",
    "    with open('index.html', 'rb') as f :\n",
    "        return f.read()"
   ]
  },
  {
   "cell_type": "code",
   "execution_count": 4,
   "metadata": {},
   "outputs": [],
   "source": [
    "# /api에 접근할 경우\n",
    "@app.route('/api', methods = ['GET'])\n",
    "def api():\n",
    "    data = pd.read_excel('./종합.xlsx')\n",
    "    # URL 매개 변수 추출하기\n",
    "    movie_title = request.args.get('movie_title', '')\n",
    "    k = data[data['NAME'] == movie_title]\n",
    "    print(moive_title)\n",
    "    if movie_title == \"\" :\n",
    "        return '{\"positiveRate\" : \"제목을 입력해주세요\", \"audience\" : \"0\",\"screen\" : \"0\",\"sf\" : \"0\"}'\n",
    "   \n",
    "    # 텍스트 카테고리 판별하기\n",
    "    positiveRate = str(k.values[0][6])\n",
    "    audience = str(k.values[0][4])\n",
    "    screen = str(k.values[0][8])\n",
    "    sf = str(k.values[0][20])\n",
    "\n",
    "    \n",
    "    # 결과를 json으로 출력하기\n",
    "    return json.dumps({\"positiveRate\" : positiveRate,\n",
    "                        \"audience\" : audience,\n",
    "                        \"screen\" : screen,\n",
    "                        \"sf\" : sf\n",
    "                      })\n",
    "\n",
    "@app.route('/api2', methods = ['GET'])\n",
    "def api2():\n",
    "    data = pd.read_excel('./종합.xlsx')\n",
    "    X = data[[\"긍정비율\",\"개봉 이틀째 관객수\", \"2일차 스크린수\",\"SF\"]].values\n",
    "    y = data[\"흥행등급\"].values\n",
    "\n",
    "    X_train, X_test, y_train, y_test = train_test_split(X, y, random_state=0)\n",
    "    gbrt = GradientBoostingClassifier(random_state=0,max_depth=3,learning_rate=0.1)\n",
    "    gbrt.fit(X_train, y_train)\n",
    "    \n",
    "    predict = request.args.get('predict','')\n",
    "    k = data[data['NAME'] == predict]\n",
    "    if predict == \"\" :\n",
    "        return '{\"predict\" : \"영화를 입력해주세요\" }'\n",
    "\n",
    "    predict = gbrt.predict(k[[\"긍정비율\",\"개봉 이틀째 관객수\", \"2일차 스크린수\",\"SF\"]].values)\n",
    "    predict2 = \"\"\n",
    "    if int(predict) == 4:\n",
    "        predict2 = \"대 흥행작일 것 입니다~~\"\n",
    "    elif int(predict) == 3:\n",
    "        predict2 = \"평타 이상은 칠 것 같습니다 ~~\"\n",
    "    elif int(predict) == 2:\n",
    "        predict2 = \"손익분기점도 못 넘을것 같습니다 ~~\"\n",
    "    else:\n",
    "        predict2 = \"엄복동입니다 ~~\"\n",
    "    \n",
    "    \n",
    "    return json.dumps({\"predictgrade\" : int(predict),\n",
    "                        \"predictment\" : predict2\n",
    "                      })\n",
    "    \n",
    "    \n",
    "    \n",
    "    "
   ]
  },
  {
   "cell_type": "code",
   "execution_count": null,
   "metadata": {
    "scrolled": false
   },
   "outputs": [
    {
     "name": "stdout",
     "output_type": "stream",
     "text": [
      " * Serving Flask app \"__main__\" (lazy loading)\n",
      " * Environment: production\n",
      "   WARNING: Do not use the development server in a production environment.\n",
      "   Use a production WSGI server instead.\n",
      " * Debug mode: off\n"
     ]
    },
    {
     "name": "stderr",
     "output_type": "stream",
     "text": [
      " * Running on http://127.0.0.1:8085/ (Press CTRL+C to quit)\n",
      "127.0.0.1 - - [28/Aug/2019 14:23:07] \"\u001b[37mGET /? HTTP/1.1\u001b[0m\" 200 -\n",
      "127.0.0.1 - - [28/Aug/2019 14:23:14] \"\u001b[37mGET / HTTP/1.1\u001b[0m\" 200 -\n",
      "127.0.0.1 - - [28/Aug/2019 14:23:19] \"\u001b[37mGET /? HTTP/1.1\u001b[0m\" 200 -\n",
      "127.0.0.1 - - [28/Aug/2019 14:24:03] \"\u001b[37mGET /? HTTP/1.1\u001b[0m\" 200 -\n",
      "127.0.0.1 - - [28/Aug/2019 14:24:04] \"\u001b[37mGET /? HTTP/1.1\u001b[0m\" 200 -\n",
      "127.0.0.1 - - [28/Aug/2019 14:24:10] \"\u001b[37mGET /? HTTP/1.1\u001b[0m\" 200 -\n",
      "127.0.0.1 - - [28/Aug/2019 14:24:13] \"\u001b[37mGET / HTTP/1.1\u001b[0m\" 200 -\n",
      "127.0.0.1 - - [28/Aug/2019 14:24:17] \"\u001b[37mGET /? HTTP/1.1\u001b[0m\" 200 -\n"
     ]
    }
   ],
   "source": [
    "if __name__ == '__main__' :\n",
    "    # 서버 실행하기\n",
    "    app.run(debug=False, port = TM_PORT_NO, threaded = False)"
   ]
  },
  {
   "cell_type": "code",
   "execution_count": 116,
   "metadata": {},
   "outputs": [],
   "source": [
    "movie_title = '말모이'"
   ]
  },
  {
   "cell_type": "code",
   "execution_count": 110,
   "metadata": {},
   "outputs": [],
   "source": [
    "data = pd.read_excel('./종합.xlsx')\n",
    "k = data[data['NAME'] == movie_title]"
   ]
  },
  {
   "cell_type": "code",
   "execution_count": 5,
   "metadata": {},
   "outputs": [],
   "source": [
    "c = k[['긍정비율','개봉 이틀째 관객수','2일차 스크린수','SF']].values"
   ]
  },
  {
   "cell_type": "code",
   "execution_count": 11,
   "metadata": {},
   "outputs": [
    {
     "data": {
      "text/plain": [
       "GradientBoostingClassifier(criterion='friedman_mse', init=None,\n",
       "              learning_rate=0.1, loss='deviance', max_depth=3,\n",
       "              max_features=None, max_leaf_nodes=None,\n",
       "              min_impurity_decrease=0.0, min_impurity_split=None,\n",
       "              min_samples_leaf=1, min_samples_split=2,\n",
       "              min_weight_fraction_leaf=0.0, n_estimators=100,\n",
       "              n_iter_no_change=None, presort='auto', random_state=0,\n",
       "              subsample=1.0, tol=0.0001, validation_fraction=0.1,\n",
       "              verbose=0, warm_start=False)"
      ]
     },
     "execution_count": 11,
     "metadata": {},
     "output_type": "execute_result"
    }
   ],
   "source": [
    "X = data[[\"긍정비율\",\"개봉 이틀째 관객수\", \"2일차 스크린수\",\"SF\"]].values\n",
    "y = data[\"흥행등급\"].values\n",
    "\n",
    "X_train, X_test, y_train, y_test = train_test_split(X, y, random_state=0)\n",
    "gbrt = GradientBoostingClassifier(random_state=0,max_depth=3,learning_rate=0.1)\n",
    "gbrt.fit(X_train, y_train)"
   ]
  },
  {
   "cell_type": "code",
   "execution_count": 8,
   "metadata": {},
   "outputs": [
    {
     "data": {
      "text/plain": [
       "array([[8.08504647e+01, 7.00506000e+05, 3.21100000e+03, 0.00000000e+00]])"
      ]
     },
     "execution_count": 8,
     "metadata": {},
     "output_type": "execute_result"
    }
   ],
   "source": [
    "gbrt.predict"
   ]
  },
  {
   "cell_type": "code",
   "execution_count": 22,
   "metadata": {},
   "outputs": [],
   "source": [
    "if int(gbrt.predict(c)[0]) == 4:\n",
    "    predict = \"대 흥행작일 것 입니다~~\"\n",
    "elif int(gbrt.predict(c)[0]) == 3:\n",
    "    predict = \"평타 이상은 칠 것 같습니다 ~~\"\n",
    "elif int(gbrt.predict(c)[0]) == 2:\n",
    "    predict = \"손익분기점도 못 넘을것 같습니다 ~~\"\n",
    "else:\n",
    "    predict = \"엄복동입니다 ~~\""
   ]
  },
  {
   "cell_type": "code",
   "execution_count": 62,
   "metadata": {},
   "outputs": [
    {
     "data": {
      "text/plain": [
       "str"
      ]
     },
     "execution_count": 62,
     "metadata": {},
     "output_type": "execute_result"
    }
   ],
   "source": [
    "type(predict)"
   ]
  },
  {
   "cell_type": "code",
   "execution_count": 142,
   "metadata": {},
   "outputs": [],
   "source": [
    "k = data[data['NAME'] == movie_title]"
   ]
  },
  {
   "cell_type": "code",
   "execution_count": 158,
   "metadata": {},
   "outputs": [
    {
     "data": {
      "text/plain": [
       "0"
      ]
     },
     "execution_count": 158,
     "metadata": {},
     "output_type": "execute_result"
    }
   ],
   "source": [
    "k.values[0][6]\n",
    "k.values[0][4]\n",
    "k.values[0][20]"
   ]
  },
  {
   "cell_type": "code",
   "execution_count": 155,
   "metadata": {},
   "outputs": [
    {
     "data": {
      "text/html": [
       "<div>\n",
       "<style scoped>\n",
       "    .dataframe tbody tr th:only-of-type {\n",
       "        vertical-align: middle;\n",
       "    }\n",
       "\n",
       "    .dataframe tbody tr th {\n",
       "        vertical-align: top;\n",
       "    }\n",
       "\n",
       "    .dataframe thead th {\n",
       "        text-align: right;\n",
       "    }\n",
       "</style>\n",
       "<table border=\"1\" class=\"dataframe\">\n",
       "  <thead>\n",
       "    <tr style=\"text-align: right;\">\n",
       "      <th></th>\n",
       "      <th>NAME</th>\n",
       "      <th>긍정</th>\n",
       "      <th>중립</th>\n",
       "      <th>부정</th>\n",
       "      <th>개봉 이틀째 관객수</th>\n",
       "      <th>개봉 9일째 관객수</th>\n",
       "      <th>긍정비율</th>\n",
       "      <th>관객증가율</th>\n",
       "      <th>2일차 스크린수</th>\n",
       "      <th>코미디</th>\n",
       "      <th>...</th>\n",
       "      <th>미스터리</th>\n",
       "      <th>공포</th>\n",
       "      <th>스릴러</th>\n",
       "      <th>멜로/로맨스</th>\n",
       "      <th>다큐멘터리</th>\n",
       "      <th>SF</th>\n",
       "      <th>모험</th>\n",
       "      <th>UBD</th>\n",
       "      <th>흥행등급</th>\n",
       "      <th>긍정댓글</th>\n",
       "    </tr>\n",
       "  </thead>\n",
       "  <tbody>\n",
       "    <tr>\n",
       "      <th>1</th>\n",
       "      <td>말모이</td>\n",
       "      <td>1427</td>\n",
       "      <td>150</td>\n",
       "      <td>180</td>\n",
       "      <td>90958</td>\n",
       "      <td>1184919</td>\n",
       "      <td>81.217985</td>\n",
       "      <td>1202.710042</td>\n",
       "      <td>896</td>\n",
       "      <td>0</td>\n",
       "      <td>...</td>\n",
       "      <td>0</td>\n",
       "      <td>0</td>\n",
       "      <td>0</td>\n",
       "      <td>0</td>\n",
       "      <td>0</td>\n",
       "      <td>0</td>\n",
       "      <td>0</td>\n",
       "      <td>6.970112</td>\n",
       "      <td>3</td>\n",
       "      <td>1446.0</td>\n",
       "    </tr>\n",
       "  </tbody>\n",
       "</table>\n",
       "<p>1 rows × 25 columns</p>\n",
       "</div>"
      ],
      "text/plain": [
       "  NAME    긍정   중립   부정  개봉 이틀째 관객수  개봉 9일째 관객수       긍정비율        관객증가율  \\\n",
       "1  말모이  1427  150  180       90958     1184919  81.217985  1202.710042   \n",
       "\n",
       "   2일차 스크린수  코미디  ...  미스터리  공포  스릴러  멜로/로맨스  다큐멘터리  SF  모험       UBD  흥행등급  \\\n",
       "1       896    0  ...     0   0    0       0      0   0   0  6.970112     3   \n",
       "\n",
       "     긍정댓글  \n",
       "1  1446.0  \n",
       "\n",
       "[1 rows x 25 columns]"
      ]
     },
     "execution_count": 155,
     "metadata": {},
     "output_type": "execute_result"
    }
   ],
   "source": [
    "k.values[0][4]"
   ]
  },
  {
   "cell_type": "code",
   "execution_count": null,
   "metadata": {},
   "outputs": [],
   "source": [
    "개봉 이틀째 관객수 2일차 스크린수 sF"
   ]
  },
  {
   "cell_type": "code",
   "execution_count": null,
   "metadata": {},
   "outputs": [],
   "source": []
  }
 ],
 "metadata": {
  "kernelspec": {
   "display_name": "Python 3",
   "language": "python",
   "name": "python3"
  },
  "language_info": {
   "codemirror_mode": {
    "name": "ipython",
    "version": 3
   },
   "file_extension": ".py",
   "mimetype": "text/x-python",
   "name": "python",
   "nbconvert_exporter": "python",
   "pygments_lexer": "ipython3",
   "version": "3.7.3"
  }
 },
 "nbformat": 4,
 "nbformat_minor": 2
}
